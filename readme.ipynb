# Sudoku Solver
A given 9X9 sudoku:
The **X** is set of Variables are reprensented in a 9 X 9 - 2D array.
The **D** is domain of the variables is from 1 to 9.
There are certain **C** constraints given by:
Each cells can contain only one single value.
The input sudoku cannot be altered in any form.
Each row of the sudoku can contain numbers from 1 to 9 once only, no duplicates are allowed.
Each column of the sudoku can contain numbers from 1 to 9 once only, no duplicates are allowed. 
Each square of the size 3 X 3 can contain numbers from 1 to 9 once only, no duplicate are allowed. 
 
# Choice of Algorithms
After considering the problem statement, the solution that comes to mind is to classify the problem statement as *constraint satisfaction problem*.
I have implemented the functions in my code to satisfy the constraints C described above. The assignment to the values are done in such a way that no 
constraints are violated, making sure every variable reaches a state with *complete assignment* and are *consistent*. The states with *partial assignment* 
should also satisfy the constraints and be *consistent*
All this resulted into implementing the **depth first search algorithm** along with the **Constraint satisfaction** and **backtracking algorithm**
The following algorithms are implemeted by me:
#BACKTRACKING ALGORITHM:
I implemented the backtracking algorithm because it has a good performance with some exceptions for the hard sudokus as they contain more empty squares than 
the easier ones. This increases the time complexity of the code as the empty squares have to be filled with increased recursion.
The backtracking algorithm tries the brute force method i.e. it tries all the solutions to the problem before choosing the solution which is best. 
The algorithm tries to find the solution step by step increasing the levels and using the recursion until the correct solution is reached. It uses the 
Depth-first-search method to implement this logic. 
Depth-first-search method works like - the algorithm tries to search for a complete assignment via recursion and when a dead is reached on a branch 
then we backtrack and try a different solution(number) until we reach a complete assignment which is consistent. If there is no solution or the input 
is invalid, to the given sudoku then we return the output with 9 X 9 array having -1.
#Checking input sudoku validity
I have implemented a functionality that validates if the input sudoku provided is valid. If the input is valid then the function returns true and the 
backtracking function is called to solve the sudoku. Otherwise if the input sudoku is invalid then the output sudoku will have -1 in all the places. 
This is just a check to do before sending the sudoku to the backtracking algorithm. 
 #Implementing the Cache
Dictionary of all the cells not filled.
List of values for each cell that can be filled.

The resulting agent created can solve most sudokus with exceptions in all difficulties expcept for **hard** as the backtrackings upper bound  
compexity is quite high and a solution to this would be to implement **Algorithm X** that uses **Dancing Links** for the hard difficulty.
 
