{
 "cells": [
  {
   "cell_type": "markdown",
   "id": "54bfa52e",
   "metadata": {},
   "source": [
    "# Sudoku Solver"
   ]
  },
  {
   "cell_type": "markdown",
   "id": "0a1f7de9",
   "metadata": {},
   "source": [
    "# Given Problem"
   ]
  },
  {
   "cell_type": "raw",
   "id": "2cc8b4c5",
   "metadata": {},
   "source": [
    "A given 9X9 sudoku:\n",
    "    The **X** is set of Variables are reprensented in a 9 X 9 - 2D array.\n",
    "    The **D** is domain of the variables is from 1 to 9.\n",
    "    There are certain **C** constraints given by:\n",
    "        Each cells can contain only one single value.\n",
    "        The input sudoku cannot be altered in any form.\n",
    "        Each row of the sudoku can contain numbers from 1 to 9 once only, no duplicates are allowed. \n",
    "        Each column of the sudoku can contain numbers from 1 to 9 once only, no duplicates are allowed. \n",
    "        Each square of the size 3 X 3 can contain numbers from 1 to 9 once only, no duplicate are allowed. "
   ]
  },
  {
   "cell_type": "markdown",
   "id": "4e013975",
   "metadata": {},
   "source": [
    "# Choice of Algorithms"
   ]
  },
  {
   "cell_type": "raw",
   "id": "091fba42",
   "metadata": {},
   "source": [
    "After considering the problem statement, the solution that comes to mind is to classify the problem statement as *constraint satisfaction problem*.\n",
    "I have implemented the functions in my code to satisfy the constraints C described above. The assignment to the values are done in such a way that no constraints are violated, making sure every variable reaches a state with *complete assignment* and are *consistent*. The states with *partial assignment* should also satisfy the constraints and be *consistent*.\n",
    "\n",
    "All this resulted into implementing the **depth first search algorithm** along with the **Constraint satisfaction** and **backtracking algorithm**\n",
    "\n",
    "The following algorithms are implemeted by me:\n",
    "    \n",
    "    #BACKTRACKING ALGORITHM:\n",
    "    \n",
    "I implemented the backtracking algorithm because it has a good performance with some exceptions for the hard sudokus as they contain more empty squares than the easier ones. This increases the time complexity of the code as the empty squares have to be filled with increased recursion.\n",
    "The backtracking algorithm tries the brute force method i.e. it tries all the solutions to the problem before choosing the solution which is best. The algorithm tries to find the solution step by step increasing the levels and using the recursion until the correct solution is reached. It uses the Depth-first-search method to implement this logic. Depth-first-search method works like - the algorithm tries to search for a complete assignment via recursion and when a dead is reached on a branch then we backtrack and try a different solution(number) until we reach a complete assignment which is consistent. If there is no solution or the input is invalid, to the given sudoku then we return the output with 9 X 9 array having -1. \n",
    "\n",
    "    #Checking input sudoku validity\n",
    "\n",
    "I have implemented a functionality that validates if the input sudoku provided is valid. If the input is valid then the function returns true and the backtracking function is called to solve the sudoku. Otherwise if the input sudoku is invalid then the output sudoku will have -1 in all the places. This is just a check to do before sending the sudoku to the backtracking algorithm. \n",
    "\n",
    "    #Implementing the Cache\n",
    "Dictionary of all the cells not filled.\n",
    "List of values for each cell that can be filled.\n",
    "\n",
    "\n",
    "    #Result\n",
    "\n",
    "#Function list\n",
    "\n",
    "sudoku_solver(sudoku: np.ndarray):\n",
    "\n",
    "check_valid_row_col(sudoku : np.ndarray):\n",
    "\n",
    "check_valid_box(sudoku: np.ndarray):\n",
    "\n",
    "find_empty(sudoku : np.ndarray):\n",
    "\n",
    "check_valid_number(sudoku : np.ndarray, num: int, place_holder: np.ndarray):\n",
    "\n",
    "back_Tracking(sudoku: np.ndarray, cache):\n",
    "\n",
    "dictonaryOfValidValues(sudoku: np.ndarray):\n",
    "\n",
    "correctValues(sudoku: np.ndarray, row, column):"
   ]
  },
  {
   "cell_type": "raw",
   "id": "517e1b0b",
   "metadata": {},
   "source": [
    "    \n",
    "### Result \n",
    "\n",
    "The resulting agent created can solve most sudokus with exceptions in all difficulties expcept for **hard** as the backtrackings upper bound  compexity is quite high and a solution to this would be to implement **Algorithm X** that uses **Dancing Links** for the hard difficulty.\n",
    "\n",
    "\n",
    "## Function List \n",
    "\n",
    "---\n",
    "\n",
    "#####  backtracking(sudoku: np.ndarray) -> bool:\n",
    "    - Function that attempts to solve sudoku and returns true if solution exists otherwise returns false if no solution\n",
    "##### sudoku_solver(sudoku: np.ndarray) -> np.ndarray\n",
    "    - If solution exists returns the solved sudoku, otherwise returns 9x9 numpy array filled with -1s\n",
    "##### valid_row_col(sudoku: np.ndarray) -> bool:\n",
    "    - returns true if row and column constraints are met for initial input sudoku and false otherwise\n",
    "##### valid_box(sudoku: np.ndarray) -> bool:\n",
    "    - returns true if box constraint is met for initial input sudoku, otherwise false \n",
    "##### find_empty(sudoku: np.ndarray) -> (int, int)\n",
    "    - returns row and column of next empty cell (contains a 0), if at the end of sudoku returns None, None\n",
    "##### valid_num(sudoku: np.ndarray, num: int, row: int, col: int) -> bool\n",
    "    - returns true if all constrains are met otherwise false\n",
    "\n"
   ]
  }
 ],
 "metadata": {
  "kernelspec": {
   "display_name": "Python 3",
   "language": "python",
   "name": "python3"
  },
  "language_info": {
   "codemirror_mode": {
    "name": "ipython",
    "version": 3
   },
   "file_extension": ".py",
   "mimetype": "text/x-python",
   "name": "python",
   "nbconvert_exporter": "python",
   "pygments_lexer": "ipython3",
   "version": "3.8.8"
  }
 },
 "nbformat": 4,
 "nbformat_minor": 5
}
